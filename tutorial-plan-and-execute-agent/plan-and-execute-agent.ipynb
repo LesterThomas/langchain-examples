{
 "cells": [
  {
   "cell_type": "code",
   "execution_count": 111,
   "metadata": {},
   "outputs": [
    {
     "name": "stdout",
     "output_type": "stream",
     "text": [
      "Note: you may need to restart the kernel to use updated packages.\n"
     ]
    },
    {
     "name": "stderr",
     "output_type": "stream",
     "text": [
      "\n",
      "[notice] A new release of pip is available: 24.3.1 -> 25.0.1\n",
      "[notice] To update, run: python.exe -m pip install --upgrade pip\n"
     ]
    }
   ],
   "source": [
    "%pip install langchain-core langgraph>0.2.27 langchain langchain-openai langchain-community python-dotenv tavily-python\n"
   ]
  },
  {
   "cell_type": "code",
   "execution_count": 112,
   "metadata": {},
   "outputs": [],
   "source": [
    "import getpass\n",
    "import os\n",
    "from dotenv import load_dotenv\n",
    "\n",
    "# Load environment variables from a .env file\n",
    "load_dotenv()\n",
    "\n",
    "os.environ[\"LANGCHAIN_TRACING_V2\"] = \"true\"\n",
    "os.environ[\"LANGCHAIN_PROJECT\"] = \"default\"\n",
    "os.environ[\"LANGCHAIN_ENDPOINT\"] = os.getenv(\"LANGCHAIN_ENDPOINT\")\n",
    "os.environ[\"LANGCHAIN_API_KEY\"] = os.getenv(\"LANGCHAIN_API_KEY\")\n",
    "os.environ[\"OPENAI_API_KEY\"] = os.getenv(\"OPENAI_API_KEY\")"
   ]
  },
  {
   "cell_type": "markdown",
   "metadata": {},
   "source": [
    "## Define Execution Agent"
   ]
  },
  {
   "cell_type": "code",
   "execution_count": 113,
   "metadata": {},
   "outputs": [],
   "source": [
    "# Import relevant functionality\n",
    "from langchain.chat_models import init_chat_model\n",
    "from langchain_community.tools.tavily_search import TavilySearchResults\n",
    "from langchain_core.messages import HumanMessage\n",
    "from langgraph.checkpoint.memory import MemorySaver\n",
    "from langgraph.prebuilt import create_react_agent\n",
    "from langchain_openai import ChatOpenAI\n",
    "\n",
    "# Create the agent\n",
    "model = init_chat_model(\"gpt-4o-mini\", model_provider=\"openai\")\n",
    "search = TavilySearchResults(max_results=3)\n",
    "tools = [search]\n",
    "prompt = \"You are a helpful assistant.\"\n",
    "agent_executor = create_react_agent(model, tools, prompt=prompt)"
   ]
  },
  {
   "cell_type": "markdown",
   "metadata": {},
   "source": [
    "Test execution agent"
   ]
  },
  {
   "cell_type": "code",
   "execution_count": 114,
   "metadata": {},
   "outputs": [
    {
     "data": {
      "text/plain": [
       "{'messages': [HumanMessage(content='who is the winnner of the us open', additional_kwargs={}, response_metadata={}, id='9b2dcd19-cf9b-48d0-bb29-5e9b734fbbf1'),\n",
       "  AIMessage(content='', additional_kwargs={'tool_calls': [{'id': 'call_uZ33y1jlJkTqK10iRhmgNXyT', 'function': {'arguments': '{\"query\":\"US Open winner 2023\"}', 'name': 'tavily_search_results_json'}, 'type': 'function'}], 'refusal': None}, response_metadata={'token_usage': {'completion_tokens': 24, 'prompt_tokens': 95, 'total_tokens': 119, 'completion_tokens_details': {'accepted_prediction_tokens': 0, 'audio_tokens': 0, 'reasoning_tokens': 0, 'rejected_prediction_tokens': 0}, 'prompt_tokens_details': {'audio_tokens': 0, 'cached_tokens': 0}}, 'model_name': 'gpt-4o-mini-2024-07-18', 'system_fingerprint': 'fp_b376dfbbd5', 'id': 'chatcmpl-BGvo8WpKCz8Vu1X8CXtXG3sIQPNTw', 'finish_reason': 'tool_calls', 'logprobs': None}, id='run-a3485197-2eff-44f0-8a86-fedf179bd3c1-0', tool_calls=[{'name': 'tavily_search_results_json', 'args': {'query': 'US Open winner 2023'}, 'id': 'call_uZ33y1jlJkTqK10iRhmgNXyT', 'type': 'tool_call'}], usage_metadata={'input_tokens': 95, 'output_tokens': 24, 'total_tokens': 119, 'input_token_details': {'audio': 0, 'cache_read': 0}, 'output_token_details': {'audio': 0, 'reasoning': 0}}),\n",
       "  ToolMessage(content='[{\"title\": \"2023 US Open (tennis) - Wikipedia\", \"url\": \"https://en.wikipedia.org/wiki/2023_US_Open_(tennis)\", \"content\": \"Find sources:\\xa0\\\\\"2023 US Open\\\\\"\\xa0tennis\\xa0–\\xa0news\\xa0· newspapers\\xa0· books\\xa0· scholar\\xa0· JSTOR (January 2025) (Learn how and when to remove this message)\\\\n2023 US Open\\\\nDate    August 28 – September 10\\\\nEdition 143rd\\\\nCategory    Grand Slam (ITF)\\\\nDraw    128S/64D\\\\nPrize\\xa0money $65,000,000\\\\nSurface Hard\\\\nLocation    New York City, United States\\\\nVenue   USTA Billie Jean King National Tennis Center\\\\nChampions\\\\nMen\\'s singles\\\\n Novak Djokovic\\\\nWomen\\'s singles\\\\n Coco Gauff\\\\nMen\\'s doubles\\\\n Rajeev Ram /  Joe Salisbury [...] The 2023 US Open was the 143rd edition of tennis\\' US Open and the fourth and final Grand Slam event of the year. It was held on outdoor hard courts at the USTA Billie Jean King National Tennis Center in New York City. Carlos Alcaraz and Iga Świątek were the men\\'s and women\\'s singles defending champions.[1][2] Świątek lost to Jeļena Ostapenko in the fourth round, while Alcaraz lost to Daniil Medvedev in the semifinals.\\\\nTournament[edit]\", \"score\": 0.8939131}, {\"title\": \"Coco Gauff and Novak Djokovic Win 2023 U.S. Open\", \"url\": \"https://www.miamiopen.com/2023/coco-gauff-and-novak-djokovic-win-2023-us-open/\", \"content\": \"Coco Gauff and Novak Djokovic walked off the courts as respective title winners at the US Open in New York.\", \"score\": 0.8719229}, {\"title\": \"US Open 2023: Novak Djokovic wins his record 24th Grand Slam ...\", \"url\": \"https://apnews.com/article/us-open-tv-betting-schedule-866b6c8b2842155d20e0ec8fca0a4020\", \"content\": \"Copy\\\\nLink copied\\\\n\\\\n\\\\nEmail\\\\n\\\\nFacebook\\\\nX\\\\nReddit\\\\nLinkedIn\\\\nPinterest\\\\nFlipboard\\\\nPrint\\\\n\\\\nRead More\\\\n    ![Image 6: Novak Djokovic, of Serbia, holds up the championship trophy for photographers after defeating Daniil Medvedev, of Russia, in the men\\'s singles final of the U.S. Open tennis championships, Sunday, Sept. 10, 2023, in New York. (AP Photo/Charles Krupa)](blob:https://apnews.com/7fbd8254586292e1bc6d646fe8d717fc) [...] 2 of 2\\xa0|\\xa0Novak Djokovic, of Serbia, holds up the championship trophy for photographers after defeating Daniil Medvedev, of Russia, in the men’s singles final of the U.S. Open tennis championships, Sunday, Sept. 10, 2023, in New York. (AP Photo/Charles Krupa)\\\\nRead More\\\\nUS Open 2023: Novak Djokovic wins his record 24th Grand Slam title by beating Daniil Medvedev [...] ![Image 4: Novak Djokovic, of Serbia, holds up the championship trophy for photographers after defeating Daniil Medvedev, of Russia, in the men\\'s singles final of the U.S. Open tennis championships, Sunday, Sept. 10, 2023, in New York. (AP Photo/Charles Krupa)](blob:https://apnews.com/7fbd8254586292e1bc6d646fe8d717fc)\", \"score\": 0.8619225}]', name='tavily_search_results_json', id='023717c7-c2e6-4dbc-a7ef-db76de083f75', tool_call_id='call_uZ33y1jlJkTqK10iRhmgNXyT', artifact={'query': 'US Open winner 2023', 'follow_up_questions': None, 'answer': None, 'images': [], 'results': [{'url': 'https://en.wikipedia.org/wiki/2023_US_Open_(tennis)', 'title': '2023 US Open (tennis) - Wikipedia', 'content': 'Find sources:\\xa0\"2023 US Open\"\\xa0tennis\\xa0–\\xa0news\\xa0· newspapers\\xa0· books\\xa0· scholar\\xa0· JSTOR (January 2025) (Learn how and when to remove this message)\\n2023 US Open\\nDate    August 28 – September 10\\nEdition 143rd\\nCategory    Grand Slam (ITF)\\nDraw    128S/64D\\nPrize\\xa0money $65,000,000\\nSurface Hard\\nLocation    New York City, United States\\nVenue   USTA Billie Jean King National Tennis Center\\nChampions\\nMen\\'s singles\\n Novak Djokovic\\nWomen\\'s singles\\n Coco Gauff\\nMen\\'s doubles\\n Rajeev Ram /  Joe Salisbury [...] The 2023 US Open was the 143rd edition of tennis\\' US Open and the fourth and final Grand Slam event of the year. It was held on outdoor hard courts at the USTA Billie Jean King National Tennis Center in New York City. Carlos Alcaraz and Iga Świątek were the men\\'s and women\\'s singles defending champions.[1][2] Świątek lost to Jeļena Ostapenko in the fourth round, while Alcaraz lost to Daniil Medvedev in the semifinals.\\nTournament[edit]', 'score': 0.8939131, 'raw_content': None}, {'url': 'https://www.miamiopen.com/2023/coco-gauff-and-novak-djokovic-win-2023-us-open/', 'title': 'Coco Gauff and Novak Djokovic Win 2023 U.S. Open', 'content': 'Coco Gauff and Novak Djokovic walked off the courts as respective title winners at the US Open in New York.', 'score': 0.8719229, 'raw_content': None}, {'url': 'https://apnews.com/article/us-open-tv-betting-schedule-866b6c8b2842155d20e0ec8fca0a4020', 'title': 'US Open 2023: Novak Djokovic wins his record 24th Grand Slam ...', 'content': \"Copy\\nLink copied\\n\\n\\nEmail\\n\\nFacebook\\nX\\nReddit\\nLinkedIn\\nPinterest\\nFlipboard\\nPrint\\n\\nRead More\\n    ![Image 6: Novak Djokovic, of Serbia, holds up the championship trophy for photographers after defeating Daniil Medvedev, of Russia, in the men's singles final of the U.S. Open tennis championships, Sunday, Sept. 10, 2023, in New York. (AP Photo/Charles Krupa)](blob:https://apnews.com/7fbd8254586292e1bc6d646fe8d717fc) [...] 2 of 2\\xa0|\\xa0Novak Djokovic, of Serbia, holds up the championship trophy for photographers after defeating Daniil Medvedev, of Russia, in the men’s singles final of the U.S. Open tennis championships, Sunday, Sept. 10, 2023, in New York. (AP Photo/Charles Krupa)\\nRead More\\nUS Open 2023: Novak Djokovic wins his record 24th Grand Slam title by beating Daniil Medvedev [...] ![Image 4: Novak Djokovic, of Serbia, holds up the championship trophy for photographers after defeating Daniil Medvedev, of Russia, in the men's singles final of the U.S. Open tennis championships, Sunday, Sept. 10, 2023, in New York. (AP Photo/Charles Krupa)](blob:https://apnews.com/7fbd8254586292e1bc6d646fe8d717fc)\", 'score': 0.8619225, 'raw_content': None}], 'response_time': 1.88}),\n",
       "  AIMessage(content=\"The winners of the 2023 US Open are:\\n\\n- **Men's Singles**: Novak Djokovic\\n- **Women's Singles**: Coco Gauff\\n\\nYou can read more about it in the [Wikipedia article on the 2023 US Open](https://en.wikipedia.org/wiki/2023_US_Open_(tennis)) or in this [news article](https://www.miamiopen.com/2023/coco-gauff-and-novak-djokovic-win-2023-us-open/).\", additional_kwargs={'refusal': None}, response_metadata={'token_usage': {'completion_tokens': 103, 'prompt_tokens': 924, 'total_tokens': 1027, 'completion_tokens_details': {'accepted_prediction_tokens': 0, 'audio_tokens': 0, 'reasoning_tokens': 0, 'rejected_prediction_tokens': 0}, 'prompt_tokens_details': {'audio_tokens': 0, 'cached_tokens': 0}}, 'model_name': 'gpt-4o-mini-2024-07-18', 'system_fingerprint': 'fp_b376dfbbd5', 'id': 'chatcmpl-BGvoB383ollC1SGYQXuSl5dqZmIX3', 'finish_reason': 'stop', 'logprobs': None}, id='run-d5de6fa8-e26d-4d9b-9fd5-81dcda1c1b40-0', usage_metadata={'input_tokens': 924, 'output_tokens': 103, 'total_tokens': 1027, 'input_token_details': {'audio': 0, 'cache_read': 0}, 'output_token_details': {'audio': 0, 'reasoning': 0}})]}"
      ]
     },
     "execution_count": 114,
     "metadata": {},
     "output_type": "execute_result"
    }
   ],
   "source": [
    "agent_executor.invoke({\"messages\": [(\"user\", \"who is the winnner of the us open\")]})"
   ]
  },
  {
   "cell_type": "markdown",
   "metadata": {},
   "source": [
    "## Define the State\n",
    "\n",
    "First, we will need to track the current plan. Let's represent that as a list of strings.\n",
    "\n",
    "Next, we should track previously executed steps. Let's represent that as a list of tuples (these tuples will contain the step and then the result)\n",
    "\n",
    "Finally, we need to have some state to represent the final response as well as the original input."
   ]
  },
  {
   "cell_type": "code",
   "execution_count": 115,
   "metadata": {},
   "outputs": [],
   "source": [
    "import operator  # For basic operations like addition\n",
    "from typing import Annotated, List, Tuple  # Type hints for complex data structures\n",
    "from typing_extensions import TypedDict  # For creating typed dictionary classes\n",
    "\n",
    "\n",
    "class PlanExecute(TypedDict):\n",
    "    \"\"\"TypedDict for Plan-Execute agent state management.\n",
    "    \n",
    "    This class defines the structure for tracking the state of a planning \n",
    "    and execution process in LangChain agents.\n",
    "    \"\"\"\n",
    "    \n",
    "    # The initial input/query from the user\n",
    "    input: str\n",
    "    \n",
    "    # List of planned steps to accomplish the task\n",
    "    plan: List[str]\n",
    "    \n",
    "    # Track completed steps, can be combined using operator.add\n",
    "    past_steps: Annotated[List[Tuple], operator.add]\n",
    "    \n",
    "    # Final response or current state of execution\n",
    "    response: str"
   ]
  },
  {
   "cell_type": "markdown",
   "metadata": {},
   "source": [
    "## Planning Step"
   ]
  },
  {
   "cell_type": "code",
   "execution_count": 116,
   "metadata": {},
   "outputs": [],
   "source": [
    "from pydantic import BaseModel, Field\n",
    "\n",
    "\n",
    "class Plan(BaseModel):\n",
    "    \"\"\"Plan to follow in future\"\"\"\n",
    "\n",
    "    steps: List[str] = Field(\n",
    "        description=\"different steps to follow, should be in sorted order\"\n",
    "    )\n"
   ]
  },
  {
   "cell_type": "code",
   "execution_count": 117,
   "metadata": {},
   "outputs": [],
   "source": [
    "from langchain_core.prompts import ChatPromptTemplate\n",
    "\n",
    "planner_prompt = ChatPromptTemplate.from_messages(\n",
    "    [\n",
    "        (\n",
    "            \"system\",\n",
    "            \"\"\"For the given objective, come up with a simple step by step plan. \\\n",
    "This plan should involve individual tasks, that if executed correctly will yield the correct answer. Do not add any superfluous steps. \\\n",
    "The result of the final step should be the final answer. Make sure that each step has all the information needed - do not skip steps.\"\"\",\n",
    "        ),\n",
    "        (\"placeholder\", \"{messages}\"),\n",
    "    ]\n",
    ")\n",
    "planner = planner_prompt | ChatOpenAI(\n",
    "    model=\"gpt-4o\", temperature=0\n",
    ").with_structured_output(Plan)"
   ]
  },
  {
   "cell_type": "markdown",
   "metadata": {},
   "source": [
    "## Test planner"
   ]
  },
  {
   "cell_type": "code",
   "execution_count": 118,
   "metadata": {},
   "outputs": [
    {
     "data": {
      "text/plain": [
       "Plan(steps=['Identify the current year to determine which Australia Open winner to consider.', 'Look up the winner of the Australia Open for the current year.', 'Research the hometown of the identified winner from the Australia Open.'])"
      ]
     },
     "execution_count": 118,
     "metadata": {},
     "output_type": "execute_result"
    }
   ],
   "source": [
    "planner.invoke(\n",
    "    {\n",
    "        \"messages\": [\n",
    "            (\"user\", \"what is the hometown of the current Australia open winner?\")\n",
    "        ]\n",
    "    }\n",
    ")"
   ]
  },
  {
   "cell_type": "markdown",
   "metadata": {},
   "source": [
    "## Replan step\n",
    "\n",
    "Create a step that re-does the plan based on the result of the previous step."
   ]
  },
  {
   "cell_type": "code",
   "execution_count": 130,
   "metadata": {},
   "outputs": [],
   "source": [
    "from typing import Union\n",
    "\n",
    "\n",
    "class Response(BaseModel):\n",
    "    \"\"\"Response to user.\"\"\"\n",
    "\n",
    "    response: str\n",
    "\n",
    "\n",
    "class Act(BaseModel):\n",
    "    \"\"\"Action to perform.\"\"\"\n",
    "\n",
    "    action: Union[Response, Plan] = Field(\n",
    "        description=\"Action to perform. If you want to respond to user, use Response. \"\n",
    "        \"If you need to further use tools to get the answer, use Plan.\"\n",
    "    )\n",
    "\n",
    "\n",
    "replanner_prompt = ChatPromptTemplate.from_template(\n",
    "    \"\"\"For the given objective, come up with a simple step by step plan. \\\n",
    "This plan should involve individual tasks, that if executed correctly will yield the correct answer. Do not add any superfluous steps. \\\n",
    "The result of the final step should be the final answer. Make sure that each step has all the information needed - do not skip steps.\n",
    "\n",
    "Your objective was this:\n",
    "{input}\n",
    "\n",
    "Your original plan was this:\n",
    "{plan}\n",
    "\n",
    "You have currently done the follow steps:\n",
    "{past_steps}\n",
    "\n",
    "Update your plan accordingly. If the plan is complete and no more steps are needed then respond with the answer that meets the original objective. Otherwise, fill out the plan. Only add steps to the plan that still NEED to be done. Do not return previously done steps as part of the plan.\"\"\"\n",
    ")\n",
    "\n",
    "\n",
    "replanner = replanner_prompt | ChatOpenAI(\n",
    "    model=\"gpt-4o\", temperature=0\n",
    ").with_structured_output(Act)"
   ]
  },
  {
   "cell_type": "markdown",
   "metadata": {},
   "source": [
    "## Create the Graph"
   ]
  },
  {
   "cell_type": "code",
   "execution_count": null,
   "metadata": {},
   "outputs": [],
   "source": [
    "from typing import Literal\n",
    "from langgraph.graph import END\n",
    "\n",
    "\n",
    "async def execute_step(state: PlanExecute):\n",
    "    plan = state[\"plan\"]\n",
    "    plan_str = \"\\n\".join(f\"{i+1}. {step}\" for i, step in enumerate(plan))\n",
    "    task = plan[0]\n",
    "    task_formatted = f\"\"\"For the following plan:\n",
    "{plan_str}\\n\\nYou are tasked with executing step {1}, {task}.\"\"\"\n",
    "    \n",
    "\n",
    "    print(\"==EXECUTING=============================================\")\n",
    "    print(f\"Executing step: {task}\")\n",
    "    print(f\"Task formatted: {task_formatted}\")\n",
    "    print(\"========================================================\")\n",
    "    \n",
    "    agent_response = await agent_executor.ainvoke(\n",
    "        {\"messages\": [(\"user\", task_formatted)]}\n",
    "    )\n",
    "    return {\n",
    "        \"past_steps\": [(task, agent_response[\"messages\"][-1].content)],\n",
    "    }\n",
    "\n",
    "\n",
    "async def plan_step(state: PlanExecute):\n",
    "    plan = await planner.ainvoke({\"messages\": [(\"user\", state[\"input\"])]})\n",
    "    return {\"plan\": plan.steps}\n",
    "\n",
    "\n",
    "async def replan_step(state: PlanExecute):\n",
    "    print(\"==REPLANNING============================================\")\n",
    "    print(f\"Current Plan: {state['plan']}\")\n",
    "    output = await replanner.ainvoke(state)\n",
    "    print(f\"Output: {output}\")\n",
    "    print(\"========================================================\")\n",
    "\n",
    "    if isinstance(output.action, Response):\n",
    "        return {\"response\": output.action.response}\n",
    "    else:\n",
    "        return {\"plan\": output.action.steps}\n",
    "\n",
    "\n",
    "def should_end(state: PlanExecute):\n",
    "    if \"response\" in state and state[\"response\"]:\n",
    "        return END\n",
    "    else:\n",
    "        return \"agent\"\n",
    "    "
   ]
  },
  {
   "cell_type": "code",
   "execution_count": 132,
   "metadata": {},
   "outputs": [],
   "source": [
    "from langgraph.graph import StateGraph, START\n",
    "\n",
    "workflow = StateGraph(PlanExecute)\n",
    "\n",
    "# Add the plan node\n",
    "workflow.add_node(\"planner\", plan_step)\n",
    "\n",
    "# Add the execution step\n",
    "workflow.add_node(\"agent\", execute_step)\n",
    "\n",
    "# Add a replan node\n",
    "workflow.add_node(\"replan\", replan_step)\n",
    "\n",
    "workflow.add_edge(START, \"planner\")\n",
    "\n",
    "# From plan we go to agent\n",
    "workflow.add_edge(\"planner\", \"agent\")\n",
    "\n",
    "# From agent, we replan\n",
    "workflow.add_edge(\"agent\", \"replan\")\n",
    "\n",
    "workflow.add_conditional_edges(\n",
    "    \"replan\",\n",
    "    # Next, we pass in the function that will determine which node is called next.\n",
    "    should_end,\n",
    "    [\"agent\", END],\n",
    ")\n",
    "\n",
    "# Finally, we compile it!\n",
    "# This compiles it into a LangChain Runnable,\n",
    "# meaning you can use it as you would any other runnable\n",
    "app = workflow.compile()"
   ]
  },
  {
   "cell_type": "code",
   "execution_count": 133,
   "metadata": {},
   "outputs": [
    {
     "data": {
      "image/png": "[encoded data removed]",
      "text/plain": [
       "<IPython.core.display.Image object>"
      ]
     },
     "metadata": {},
     "output_type": "display_data"
    }
   ],
   "source": [
    "from IPython.display import Image, display\n",
    "\n",
    "display(Image(app.get_graph(xray=True).draw_mermaid_png()))"
   ]
  },
  {
   "cell_type": "code",
   "execution_count": 134,
   "metadata": {},
   "outputs": [
    {
     "name": "stdout",
     "output_type": "stream",
     "text": [
      "{'plan': ['Identify the key challenges and requirements specific to AI systems in a large enterprise context, such as scalability, data privacy, and integration with existing systems.', 'Define a clear and concise title for each principle that reflects its core idea or objective.', 'For each principle, write a brief description that explains its purpose and importance in the context of AI architecture.', 'Ensure each principle includes a rationale that justifies why it is important and how it addresses specific challenges or requirements.', 'Include implications for each principle, detailing how it will affect decision-making, processes, and the overall architecture.', \"Review the principles to ensure they are aligned with the enterprise's overall business goals and IT strategy.\", 'Organize the principles in a logical order, starting with foundational principles and moving to more specific ones.', 'Finalize the list of principles, ensuring clarity, consistency, and completeness.']}\n",
      "========================================================\n",
      "Executing step: Identify the key challenges and requirements specific to AI systems in a large enterprise context, such as scalability, data privacy, and integration with existing systems.\n",
      "Task formatted: For the following plan:\n",
      "1. Identify the key challenges and requirements specific to AI systems in a large enterprise context, such as scalability, data privacy, and integration with existing systems.\n",
      "2. Define a clear and concise title for each principle that reflects its core idea or objective.\n",
      "3. For each principle, write a brief description that explains its purpose and importance in the context of AI architecture.\n",
      "4. Ensure each principle includes a rationale that justifies why it is important and how it addresses specific challenges or requirements.\n",
      "5. Include implications for each principle, detailing how it will affect decision-making, processes, and the overall architecture.\n",
      "6. Review the principles to ensure they are aligned with the enterprise's overall business goals and IT strategy.\n",
      "7. Organize the principles in a logical order, starting with foundational principles and moving to more specific ones.\n",
      "8. Finalize the list of principles, ensuring clarity, consistency, and completeness.\n",
      "\n",
      "You are tasked with executing step 1, Identify the key challenges and requirements specific to AI systems in a large enterprise context, such as scalability, data privacy, and integration with existing systems..\n",
      "========================================================\n",
      "{'past_steps': [('Identify the key challenges and requirements specific to AI systems in a large enterprise context, such as scalability, data privacy, and integration with existing systems.', 'Identifying the key challenges and requirements specific to AI systems in a large enterprise context involves examining various factors that can impact the successful deployment and operation of AI technologies. Here are some of the primary challenges and requirements:\\n\\n### Key Challenges and Requirements:\\n\\n1. **Scalability**:\\n   - **Challenge**: AI models and systems must be able to handle increasing amounts of data and user interactions without degrading performance. Large enterprises often deal with vast datasets.\\n   - **Requirement**: Systems should be designed to scale horizontally or vertically to accommodate growth in data volume and computational needs. This includes utilizing cloud infrastructure or distributed computing solutions.\\n\\n2. **Data Privacy and Security**:\\n   - **Challenge**: Safeguarding sensitive and personal data is crucial, especially with regulations like GDPR and HIPAA. There’s an increased risk of data breaches and misuse of personal information.\\n   - **Requirement**: Implement robust data protection policies, encryption, and secure access controls. Compliance with legal frameworks around data handling is essential.\\n\\n3. **Integration with Existing Systems**:\\n   - **Challenge**: Large enterprises have diverse IT ecosystems with various legacy systems. Integrating AI solutions with these existing systems can be complex and resource-intensive.\\n   - **Requirement**: AI solutions must be designed with interoperability in mind, utilizing APIs and middleware to ensure seamless data flow between systems.\\n\\n4. **Model Interpretability and Explainability**:\\n   - **Challenge**: Many AI models, especially in the deep learning domain, are often seen as \"black boxes.\" Understanding how decisions are made is critical for trust and accountability.\\n   - **Requirement**: Systems should include features that allow stakeholders to interpret and understand AI decision-making processes, facilitating transparency and compliance with ethical standards.\\n\\n5. **Talent and Skill Shortage**:\\n   - **Challenge**: There is a significant shortage of skilled professionals who understand AI, machine learning, and data science. This can hinder the effective implementation of AI solutions.\\n   - **Requirement**: Enterprises need to invest in training and development programs to build internal capabilities or collaborate with external experts and organizations.\\n\\n6. **Infrastructure Needs**:\\n   - **Challenge**: Running AI algorithms requires substantial computational resources, including GPUs and high-memory servers.\\n   - **Requirement**: Enterprises must assess and invest in the appropriate infrastructure to support AI workloads, including cloud services if needed for scalability and flexibility.\\n\\n7. **Ethical Considerations**:\\n   - **Challenge**: AI systems can inadvertently perpetuate biases present in the data on which they are trained. This can lead to unfair outcomes.\\n   - **Requirement**: Establish frameworks to evaluate and mitigate bias in AI systems. Implementing diverse data sources and regular audits is crucial to maintaining ethical standards.\\n\\n8. **Change Management**:\\n   - **Challenge**: Implementing AI can lead to resistance from employees who may fear job displacement or who may not understand the technology.\\n   - **Requirement**: Change management strategies must be in place to educate and transition employees, emphasizing how AI can augment their work rather than replace it.\\n\\n9. **Cost Management**:\\n   - **Challenge**: AI projects can be expensive, with costs associated with research, development, deployment, and ongoing maintenance.\\n   - **Requirement**: A careful budgeting process is needed along with clear ROI metrics to evaluate the effectiveness of AI investments.\\n\\n### Conclusion\\nAddressing these challenges and requirements is essential for the successful deployment of AI systems in a large enterprise context. By focusing on scalability, data privacy, integration, talent acquisition, infrastructure, ethics, and change management, organizations can create a robust AI strategy that aligns with their overall business objectives.')]}\n",
      "{'plan': ['Define a clear and concise title for each principle that reflects its core idea or objective.', 'For each principle, write a brief description that explains its purpose and importance in the context of AI architecture.', 'Ensure each principle includes a rationale that justifies why it is important and how it addresses specific challenges or requirements.', 'Include implications for each principle, detailing how it will affect decision-making, processes, and the overall architecture.', \"Review the principles to ensure they are aligned with the enterprise's overall business goals and IT strategy.\", 'Organize the principles in a logical order, starting with foundational principles and moving to more specific ones.', 'Finalize the list of principles, ensuring clarity, consistency, and completeness.']}\n",
      "========================================================\n",
      "Executing step: Define a clear and concise title for each principle that reflects its core idea or objective.\n",
      "Task formatted: For the following plan:\n",
      "1. Define a clear and concise title for each principle that reflects its core idea or objective.\n",
      "2. For each principle, write a brief description that explains its purpose and importance in the context of AI architecture.\n",
      "3. Ensure each principle includes a rationale that justifies why it is important and how it addresses specific challenges or requirements.\n",
      "4. Include implications for each principle, detailing how it will affect decision-making, processes, and the overall architecture.\n",
      "5. Review the principles to ensure they are aligned with the enterprise's overall business goals and IT strategy.\n",
      "6. Organize the principles in a logical order, starting with foundational principles and moving to more specific ones.\n",
      "7. Finalize the list of principles, ensuring clarity, consistency, and completeness.\n",
      "\n",
      "You are tasked with executing step 1, Define a clear and concise title for each principle that reflects its core idea or objective..\n",
      "========================================================\n",
      "{'past_steps': [('Define a clear and concise title for each principle that reflects its core idea or objective.', 'Here are the suggested titles for each principle in the context of AI architecture:\\n\\n1. **Transparency** - Ensuring clarity and openness in AI processes and decisions.\\n2. **Fairness** - Promoting equitable treatment and preventing bias in AI systems.\\n3. **Security** - Safeguarding AI systems and data from threats and vulnerabilities.\\n4. **Scalability** - Designing AI systems that effectively adapt and grow with increasing demands.\\n5. **Interoperability** - Enabling seamless integration and communication between AI systems and other technologies.\\n6. **Accountability** - Establishing clear ownership and responsibility for AI actions and outcomes.\\n7. **Usability** - Focusing on the user experience to make AI systems accessible and efficient.\\n8. **Ethical Considerations** - Incorporating ethical principles to guide AI development and deployment.\\n9. **Sustainability** - Ensuring that AI practices and technologies are environmentally and socially sustainable.\\n10. **Innovation** - Fostering a culture of creativity and exploration to drive AI advancements.\\n\\nThese titles encapsulate the core ideas and objectives of each principle related to AI architecture.')]}\n",
      "{'plan': ['For each principle, write a brief description that explains its purpose and importance in the context of AI architecture.', 'Ensure each principle includes a rationale that justifies why it is important and how it addresses specific challenges or requirements.', 'Include implications for each principle, detailing how it will affect decision-making, processes, and the overall architecture.', \"Review the principles to ensure they are aligned with the enterprise's overall business goals and IT strategy.\", 'Organize the principles in a logical order, starting with foundational principles and moving to more specific ones.', 'Finalize the list of principles, ensuring clarity, consistency, and completeness.']}\n",
      "========================================================\n",
      "Executing step: For each principle, write a brief description that explains its purpose and importance in the context of AI architecture.\n",
      "Task formatted: For the following plan:\n",
      "1. For each principle, write a brief description that explains its purpose and importance in the context of AI architecture.\n",
      "2. Ensure each principle includes a rationale that justifies why it is important and how it addresses specific challenges or requirements.\n",
      "3. Include implications for each principle, detailing how it will affect decision-making, processes, and the overall architecture.\n",
      "4. Review the principles to ensure they are aligned with the enterprise's overall business goals and IT strategy.\n",
      "5. Organize the principles in a logical order, starting with foundational principles and moving to more specific ones.\n",
      "6. Finalize the list of principles, ensuring clarity, consistency, and completeness.\n",
      "\n",
      "You are tasked with executing step 1, For each principle, write a brief description that explains its purpose and importance in the context of AI architecture..\n",
      "========================================================\n",
      "{'past_steps': [('For each principle, write a brief description that explains its purpose and importance in the context of AI architecture.', 'Here are the principles of AI architecture with brief descriptions explaining their purpose and importance:\\n\\n### 1. Scalability\\n**Description**: Scalability refers to the ability of an AI system to handle increasing amounts of data and workloads without performance degradation. This principle is crucial in ensuring that as the organization grows and the datasets expand, the AI architecture can adapt without requiring a complete overhaul.\\n\\n**Importance**: With the exponential growth in data production and the need for real-time insights, scalable architecture ensures that AI systems remain effective and efficient under varying loads, thereby maximizing return on investment.\\n\\n---\\n\\n### 2. Interoperability\\n**Description**: Interoperability is the capability of different AI systems and components to work together seamlessly, including integration with existing IT infrastructure, data sources, and third-party applications. \\n\\n**Importance**: This principle is vital as it allows AI systems to leverage existing tools, datasets, and environments, which facilitates smoother operations and reduces silos within an organization.\\n\\n---\\n\\n### 3. Data Governance\\n**Description**: Data governance involves the management of data accessibility, quality, security, and compliance within the AI architecture. This principle ensures that data used in AI algorithms is accurate, ethical, and compliant with regulations.\\n\\n**Importance**: With increasing scrutiny around data privacy and protection, robust data governance is essential to protect the organization against legal issues, enhance data quality, and build trust in AI outputs.\\n\\n---\\n\\n### 4. Explainability\\n**Description**: Explainability is the ability of an AI system to provide understandable and interpretable outputs and decision-making processes. This principle is crucial for stakeholder buy-in and regulatory compliance.\\n\\n**Importance**: As AI is increasingly applied in sensitive areas (e.g., healthcare, finance), being able to explain AI decisions mitigates risks of bias and discrimination and ensures accountability, enhancing user trust.\\n\\n---\\n\\n### 5. Security\\n**Description**: Security encompasses measures implemented to protect AI systems from cyber threats, including unauthorized access, data breaches, and adversarial attacks.\\n\\n**Importance**: Given the risks associated with AI technologies, especially concerning sensitive data, ensuring robust security measures is essential to protect the integrity of the AI systems and the organization’s reputation.\\n\\n---\\n\\n### 6. Continuous Learning\\n**Description**: Continuous learning refers to the AI system’s ability to learn and improve from new data and experiences over time without requiring complete retraining.\\n\\n**Importance**: This principle is essential for maintaining the relevance and accuracy of AI systems in dynamic environments where data patterns change frequently, allowing organizations to stay competitive.\\n\\n---\\n\\n### 7. Ethical AI\\n**Description**: Ethical AI emphasizes the importance of developing AI systems that align with ethical standards and societal values, including fairness, accountability, and transparency.\\n\\n**Importance**: As AI systems make increasingly critical decisions, incorporating ethical considerations mitigates risks of bias and misuse, promoting social responsibility and enhancing public trust.\\n\\n---\\n\\n### 8. Performance Optimization\\n**Description**: Performance optimization involves designing AI architectures that maximize computational efficiency and resource utilization while maintaining high accuracy in outputs.\\n\\n**Importance**: Optimized performance is crucial for achieving faster response times and lower operational costs, which are vital for organizations aiming to leverage AI for competitive advantage.\\n\\n---\\n\\n### 9. User-Centric Design\\n**Description**: User-centric design integrates user feedback and usability principles into AI solutions to ensure that they meet the needs and expectations of end users.\\n\\n**Importance**: By prioritizing user experience, organizations can enhance adoption rates of AI solutions, improve user satisfaction, and ensure that the AI outputs are actionable and relevant.\\n\\n---\\n\\nBy adhering to these principles, organizations can create a robust AI architecture that aligns with their strategic goals and addresses critical challenges.')]}\n",
      "{'plan': ['Ensure each principle includes a rationale that justifies why it is important and how it addresses specific challenges or requirements.', 'Include implications for each principle, detailing how it will affect decision-making, processes, and the overall architecture.', \"Review the principles to ensure they are aligned with the enterprise's overall business goals and IT strategy.\", 'Organize the principles in a logical order, starting with foundational principles and moving to more specific ones.', 'Finalize the list of principles, ensuring clarity, consistency, and completeness.']}\n",
      "========================================================\n",
      "Executing step: Ensure each principle includes a rationale that justifies why it is important and how it addresses specific challenges or requirements.\n",
      "Task formatted: For the following plan:\n",
      "1. Ensure each principle includes a rationale that justifies why it is important and how it addresses specific challenges or requirements.\n",
      "2. Include implications for each principle, detailing how it will affect decision-making, processes, and the overall architecture.\n",
      "3. Review the principles to ensure they are aligned with the enterprise's overall business goals and IT strategy.\n",
      "4. Organize the principles in a logical order, starting with foundational principles and moving to more specific ones.\n",
      "5. Finalize the list of principles, ensuring clarity, consistency, and completeness.\n",
      "\n",
      "You are tasked with executing step 1, Ensure each principle includes a rationale that justifies why it is important and how it addresses specific challenges or requirements..\n",
      "========================================================\n",
      "{'past_steps': [('Ensure each principle includes a rationale that justifies why it is important and how it addresses specific challenges or requirements.', \"To execute step 1 of your plan, we will create a structure where each principle is accompanied by a rationale that highlights its importance and explains how it addresses specific challenges or requirements. Here’s an approach to format this effectively:\\n\\n### Principles and Rationales\\n\\n1. **Principle 1: Scalability**\\n   - **Rationale**: Scalability is crucial for supporting future growth and adapting to increasing user demands. As the organization grows, systems must be able to handle higher loads without performance degradation. This principle addresses the challenge of sudden spikes in demand and ensures long-term sustainability.\\n\\n2. **Principle 2: Security**\\n   - **Rationale**: Security is imperative to protect sensitive data and maintain user trust. With rising cyber threats, implementing robust security measures is essential to safeguard against data breaches and compliance violations. This principle addresses the challenge of safeguarding assets in a digital landscape fraught with risks.\\n\\n3. **Principle 3: Interoperability**\\n   - **Rationale**: Ensuring that systems can work together is a key factor in reducing complexity and improving efficiency. Interoperability addresses the challenge of silos in information flow, enabling seamless communication between disparate systems and preventing data loss.\\n\\n4. **Principle 4: Maintainability**\\n   - **Rationale**: Systems should be easy to maintain and update to adapt to changing requirements. This principle is vital to ensure operational efficiency and reduce downtime. It addresses the challenges of tech debt and operational bottlenecks that can arise from outdated systems.\\n\\n5. **Principle 5: User-Centric Design**\\n   - **Rationale**: Designing with the end-user in mind ensures that systems meet the actual needs of users, leading to higher satisfaction and productivity. This principle addresses the challenge of user adoption and encourages relevant feedback to continuously improve the user experience.\\n\\n6. **Principle 6: Data-Driven Decision Making**\\n   - **Rationale**: Leveraging data analytics for decision-making is crucial for informed strategy and operational excellence. This principle addresses the challenge of outdated decision frameworks and enhances responsiveness to market changes through real-time insights.\\n\\n7. **Principle 7: Agility**\\n   - **Rationale**: Agility emphasizes the importance of adapting quickly to change in a fast-paced business environment. This principle addresses the challenges of static planning processes and fosters continuous improvement and innovation.\\n\\n### Next Steps\\nOnce these principles are drafted with their rationales, it's essential to document them in a way that they can be reviewed and refined in subsequent steps (like aligning with business goals and organizing them logically). If you have specific principles in mind that you would like to develop further, please provide them, and I can help create tailored rationales.\")]}\n",
      "{'plan': ['Include implications for each principle, detailing how it will affect decision-making, processes, and the overall architecture.', \"Review the principles to ensure they are aligned with the enterprise's overall business goals and IT strategy.\", 'Organize the principles in a logical order, starting with foundational principles and moving to more specific ones.', 'Finalize the list of principles, ensuring clarity, consistency, and completeness.']}\n",
      "========================================================\n",
      "Executing step: Include implications for each principle, detailing how it will affect decision-making, processes, and the overall architecture.\n",
      "Task formatted: For the following plan:\n",
      "1. Include implications for each principle, detailing how it will affect decision-making, processes, and the overall architecture.\n",
      "2. Review the principles to ensure they are aligned with the enterprise's overall business goals and IT strategy.\n",
      "3. Organize the principles in a logical order, starting with foundational principles and moving to more specific ones.\n",
      "4. Finalize the list of principles, ensuring clarity, consistency, and completeness.\n",
      "\n",
      "You are tasked with executing step 1, Include implications for each principle, detailing how it will affect decision-making, processes, and the overall architecture..\n",
      "========================================================\n",
      "{'past_steps': [('Include implications for each principle, detailing how it will affect decision-making, processes, and the overall architecture.', 'To effectively execute step 1 of your plan, we need to outline potential principles that might be relevant to an architecture or framework within an enterprise context. Below is a framework for how to detail the implications for each principle regarding its impact on decision-making, processes, and overall architecture.\\n\\n### Principles and Their Implications\\n\\n1. **User-Centric Design Principle**\\n   - **Implications**:\\n     - **Decision-Making**: Promote decisions that prioritize user needs and experiences, impacting product features and functionalities.\\n     - **Processes**: Foster cross-functional collaboration between UX/UI design teams and developers to ensure user feedback is integrated into the development lifecycle.\\n     - **Architecture**: Design systems that are modular and adaptable to user feedback, allowing for enhancements based on real user interactions.\\n\\n2. **Agility and Flexibility Principle**\\n   - **Implications**:\\n     - **Decision-Making**: Encourage swift changes in response to market dynamics, leading to decisions that enable rapid iterations and pivoting strategies.\\n     - **Processes**: Implement Agile methodologies in project management, which can modify processes to be iterative and incremental.\\n     - **Architecture**: Support microservices and cloud-native architectures that allow for scalable and flexible deployments.\\n\\n3. **Security by Design Principle**\\n   - **Implications**:\\n     - **Decision-Making**: Security becomes a primary consideration at all stages of decision-making, influencing how features are built and what technologies are chosen.\\n     - **Processes**: Integrate security practices into the DevOps pipeline (DevSecOps), ensuring ongoing vulnerability assessments and compliance checks.\\n     - **Architecture**: Create security-focused architecture frameworks that mandate secure coding practices and data protection measures.\\n\\n4. **Data-Driven Decision Making Principle**\\n   - **Implications**:\\n     - **Decision-Making**: Leverage analytics and metrics to guide business and technical decisions, reducing reliance on anecdotal evidence.\\n     - **Processes**: Establish data collection and reporting processes that enable real-time analysis and insights for performance improvements.\\n     - **Architecture**: Develop data architectures that support data lakes and analytics platforms, enhancing the ability to analyze and visualize data effectively.\\n\\n5. **Interoperability Principle**\\n   - **Implications**:\\n     - **Decision-Making**: Decisions will favor technologies and solutions that ensure compatibility and integration with existing systems and third-party services.\\n     - **Processes**: Define clear standards and protocols for data exchange and system integrations, creating streamlined processes for onboarding and collaboration.\\n     - **Architecture**: Drive the use of APIs and standardized data formats to ensure systems can easily communicate and share data across platforms.\\n\\n6. **Sustainability Principle**\\n   - **Implications**:\\n     - **Decision-Making**: Prioritize sustainable options in technology choices and operational strategies, affecting vendor selections and resource allocation.\\n     - **Processes**: Include assessments of environmental impact in project planning processes, encouraging practices that minimize carbon footprints.\\n     - **Architecture**: Design systems with considerations for energy efficiency and resource optimization, leading to a greener IT infrastructure.\\n\\n7. **Continuous Improvement Principle**\\n   - **Implications**:\\n     - **Decision-Making**: Promote a culture that values feedback and ongoing enhancements, influencing how teams approach projects and product lifecycles.\\n     - **Processes**: Establish regular review and retrospectives to assess performance and identify areas for improvement, integrating lessons learned into future processes.\\n     - **Architecture**: Build in adaptability and ease of enhancement into the architecture, facilitating future upgrades and iterations without significant rework.\\n\\n### Conclusion\\n\\nBy articulating the implications of each principle, you can develop a comprehensive understanding of how these principles will inform and shape decision-making, processes, and overall architecture within the organization. This will help ensure that they not only fit within the enterprise strategy but also guide practical execution across various departments. \\n\\nOnce you have posted the identified principles and their implications, steps 2 through 4 can proceed to ensure alignment with business goals, logical ordering, and finalizing the list of principles.')]}\n",
      "{'response': \"### Updated Plan for Creating Enterprise Architecture Principles for AI Architecture:\\n\\n1. **Review and Align with Business Goals**\\n   - Ensure that each principle aligns with the enterprise's overall business objectives and IT strategy. This step is crucial to ensure that the principles support the organization's mission and vision.\\n\\n2. **Organize Principles Logically**\\n   - Arrange the principles in a logical order, starting with foundational principles and moving to more specific ones. This helps in understanding the hierarchy and importance of each principle.\\n\\n3. **Finalize the List of Principles**\\n   - Ensure clarity, consistency, and completeness in the final list of principles. This involves reviewing the language and ensuring that each principle is well-defined and actionable.\\n\\n### Final List of Enterprise Architecture Principles for AI Architecture:\\n\\n1. **Scalability**\\n   - **Description**: Design AI systems to handle increasing data and workloads efficiently.\\n   - **Rationale**: Supports growth and adapts to user demands.\\n   - **Implications**: Affects infrastructure planning and resource allocation.\\n\\n2. **Interoperability**\\n   - **Description**: Ensure seamless integration with existing systems.\\n   - **Rationale**: Reduces complexity and improves efficiency.\\n   - **Implications**: Influences technology choices and integration processes.\\n\\n3. **Data Governance**\\n   - **Description**: Manage data quality, security, and compliance.\\n   - **Rationale**: Protects against legal issues and enhances trust.\\n   - **Implications**: Affects data management policies and practices.\\n\\n4. **Explainability**\\n   - **Description**: Provide understandable AI outputs and decisions.\\n   - **Rationale**: Enhances trust and regulatory compliance.\\n   - **Implications**: Influences model design and stakeholder communication.\\n\\n5. **Security**\\n   - **Description**: Protect AI systems from cyber threats.\\n   - **Rationale**: Safeguards data integrity and reputation.\\n   - **Implications**: Affects security protocols and risk management.\\n\\n6. **Continuous Learning**\\n   - **Description**: Enable AI systems to learn and improve over time.\\n   - **Rationale**: Maintains relevance and accuracy.\\n   - **Implications**: Influences model training and update processes.\\n\\n7. **Ethical AI**\\n   - **Description**: Align AI systems with ethical standards.\\n   - **Rationale**: Promotes social responsibility and trust.\\n   - **Implications**: Affects development practices and ethical reviews.\\n\\n8. **Performance Optimization**\\n   - **Description**: Maximize computational efficiency and accuracy.\\n   - **Rationale**: Achieves faster response times and lower costs.\\n   - **Implications**: Influences system design and resource utilization.\\n\\n9. **User-Centric Design**\\n   - **Description**: Focus on user experience and feedback.\\n   - **Rationale**: Enhances adoption and satisfaction.\\n   - **Implications**: Affects design processes and user engagement.\\n\\nBy following these steps and principles, the enterprise can establish a robust AI architecture that aligns with strategic goals and addresses critical challenges.\"}\n"
     ]
    }
   ],
   "source": [
    "config = {\"recursion_limit\": 20}\n",
    "inputs = {\"input\": \"Create a set of Enterprise Architecture principles for the end-to-end AI Architecture of a large enterprise. Follow good practice for defining Architecture Principles and ensure the principles reflect the challenges of building Artificial Intelligent systems. The output should just be a list of EA Principles.\"}\n",
    "async for event in app.astream(inputs, config=config):\n",
    "    for k, v in event.items():\n",
    "        if k != \"__end__\":\n",
    "            print(v)"
   ]
  },
  {
   "cell_type": "code",
   "execution_count": null,
   "metadata": {},
   "outputs": [],
   "source": []
  }
 ],
 "metadata": {
  "kernelspec": {
   "display_name": "venv",
   "language": "python",
   "name": "python3"
  },
  "language_info": {
   "codemirror_mode": {
    "name": "ipython",
    "version": 3
   },
   "file_extension": ".py",
   "mimetype": "text/x-python",
   "name": "python",
   "nbconvert_exporter": "python",
   "pygments_lexer": "ipython3",
   "version": "3.13.2"
  }
 },
 "nbformat": 4,
 "nbformat_minor": 2
}
