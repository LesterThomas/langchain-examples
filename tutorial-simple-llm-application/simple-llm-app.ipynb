{
 "cells": [
  {
   "cell_type": "code",
   "execution_count": 5,
   "metadata": {},
   "outputs": [
    {
     "name": "stdout",
     "output_type": "stream",
     "text": [
      "Requirement already satisfied: langchain in c:\\dev\\lesterthomas\\langchain-examples\\tutorial-simple-llm-application\\venv\\lib\\site-packages (0.3.21)\n",
      "Requirement already satisfied: langchain-openai in c:\\dev\\lesterthomas\\langchain-examples\\tutorial-simple-llm-application\\venv\\lib\\site-packages (0.3.11)\n",
      "Requirement already satisfied: python-dotenv in c:\\dev\\lesterthomas\\langchain-examples\\tutorial-simple-llm-application\\venv\\lib\\site-packages (1.1.0)\n",
      "Requirement already satisfied: langchain-core<1.0.0,>=0.3.45 in c:\\dev\\lesterthomas\\langchain-examples\\tutorial-simple-llm-application\\venv\\lib\\site-packages (from langchain) (0.3.49)\n",
      "Requirement already satisfied: langchain-text-splitters<1.0.0,>=0.3.7 in c:\\dev\\lesterthomas\\langchain-examples\\tutorial-simple-llm-application\\venv\\lib\\site-packages (from langchain) (0.3.7)\n",
      "Requirement already satisfied: langsmith<0.4,>=0.1.17 in c:\\dev\\lesterthomas\\langchain-examples\\tutorial-simple-llm-application\\venv\\lib\\site-packages (from langchain) (0.3.19)\n",
      "Requirement already satisfied: pydantic<3.0.0,>=2.7.4 in c:\\dev\\lesterthomas\\langchain-examples\\tutorial-simple-llm-application\\venv\\lib\\site-packages (from langchain) (2.11.1)\n",
      "Requirement already satisfied: SQLAlchemy<3,>=1.4 in c:\\dev\\lesterthomas\\langchain-examples\\tutorial-simple-llm-application\\venv\\lib\\site-packages (from langchain) (2.0.40)\n",
      "Requirement already satisfied: requests<3,>=2 in c:\\dev\\lesterthomas\\langchain-examples\\tutorial-simple-llm-application\\venv\\lib\\site-packages (from langchain) (2.32.3)\n",
      "Requirement already satisfied: PyYAML>=5.3 in c:\\dev\\lesterthomas\\langchain-examples\\tutorial-simple-llm-application\\venv\\lib\\site-packages (from langchain) (6.0.2)\n",
      "Requirement already satisfied: openai<2.0.0,>=1.68.2 in c:\\dev\\lesterthomas\\langchain-examples\\tutorial-simple-llm-application\\venv\\lib\\site-packages (from langchain-openai) (1.69.0)\n",
      "Requirement already satisfied: tiktoken<1,>=0.7 in c:\\dev\\lesterthomas\\langchain-examples\\tutorial-simple-llm-application\\venv\\lib\\site-packages (from langchain-openai) (0.9.0)\n",
      "Requirement already satisfied: tenacity!=8.4.0,<10.0.0,>=8.1.0 in c:\\dev\\lesterthomas\\langchain-examples\\tutorial-simple-llm-application\\venv\\lib\\site-packages (from langchain-core<1.0.0,>=0.3.45->langchain) (9.0.0)\n",
      "Requirement already satisfied: jsonpatch<2.0,>=1.33 in c:\\dev\\lesterthomas\\langchain-examples\\tutorial-simple-llm-application\\venv\\lib\\site-packages (from langchain-core<1.0.0,>=0.3.45->langchain) (1.33)\n",
      "Requirement already satisfied: packaging<25,>=23.2 in c:\\dev\\lesterthomas\\langchain-examples\\tutorial-simple-llm-application\\venv\\lib\\site-packages (from langchain-core<1.0.0,>=0.3.45->langchain) (24.2)\n",
      "Requirement already satisfied: typing-extensions>=4.7 in c:\\dev\\lesterthomas\\langchain-examples\\tutorial-simple-llm-application\\venv\\lib\\site-packages (from langchain-core<1.0.0,>=0.3.45->langchain) (4.13.0)\n",
      "Requirement already satisfied: httpx<1,>=0.23.0 in c:\\dev\\lesterthomas\\langchain-examples\\tutorial-simple-llm-application\\venv\\lib\\site-packages (from langsmith<0.4,>=0.1.17->langchain) (0.28.1)\n",
      "Requirement already satisfied: orjson<4.0.0,>=3.9.14 in c:\\dev\\lesterthomas\\langchain-examples\\tutorial-simple-llm-application\\venv\\lib\\site-packages (from langsmith<0.4,>=0.1.17->langchain) (3.10.16)\n",
      "Requirement already satisfied: requests-toolbelt<2.0.0,>=1.0.0 in c:\\dev\\lesterthomas\\langchain-examples\\tutorial-simple-llm-application\\venv\\lib\\site-packages (from langsmith<0.4,>=0.1.17->langchain) (1.0.0)\n",
      "Requirement already satisfied: zstandard<0.24.0,>=0.23.0 in c:\\dev\\lesterthomas\\langchain-examples\\tutorial-simple-llm-application\\venv\\lib\\site-packages (from langsmith<0.4,>=0.1.17->langchain) (0.23.0)\n",
      "Requirement already satisfied: anyio<5,>=3.5.0 in c:\\dev\\lesterthomas\\langchain-examples\\tutorial-simple-llm-application\\venv\\lib\\site-packages (from openai<2.0.0,>=1.68.2->langchain-openai) (4.9.0)\n",
      "Requirement already satisfied: distro<2,>=1.7.0 in c:\\dev\\lesterthomas\\langchain-examples\\tutorial-simple-llm-application\\venv\\lib\\site-packages (from openai<2.0.0,>=1.68.2->langchain-openai) (1.9.0)\n",
      "Requirement already satisfied: jiter<1,>=0.4.0 in c:\\dev\\lesterthomas\\langchain-examples\\tutorial-simple-llm-application\\venv\\lib\\site-packages (from openai<2.0.0,>=1.68.2->langchain-openai) (0.9.0)\n",
      "Requirement already satisfied: sniffio in c:\\dev\\lesterthomas\\langchain-examples\\tutorial-simple-llm-application\\venv\\lib\\site-packages (from openai<2.0.0,>=1.68.2->langchain-openai) (1.3.1)\n",
      "Requirement already satisfied: tqdm>4 in c:\\dev\\lesterthomas\\langchain-examples\\tutorial-simple-llm-application\\venv\\lib\\site-packages (from openai<2.0.0,>=1.68.2->langchain-openai) (4.67.1)\n",
      "Requirement already satisfied: annotated-types>=0.6.0 in c:\\dev\\lesterthomas\\langchain-examples\\tutorial-simple-llm-application\\venv\\lib\\site-packages (from pydantic<3.0.0,>=2.7.4->langchain) (0.7.0)\n",
      "Requirement already satisfied: pydantic-core==2.33.0 in c:\\dev\\lesterthomas\\langchain-examples\\tutorial-simple-llm-application\\venv\\lib\\site-packages (from pydantic<3.0.0,>=2.7.4->langchain) (2.33.0)\n",
      "Requirement already satisfied: typing-inspection>=0.4.0 in c:\\dev\\lesterthomas\\langchain-examples\\tutorial-simple-llm-application\\venv\\lib\\site-packages (from pydantic<3.0.0,>=2.7.4->langchain) (0.4.0)\n",
      "Requirement already satisfied: charset-normalizer<4,>=2 in c:\\dev\\lesterthomas\\langchain-examples\\tutorial-simple-llm-application\\venv\\lib\\site-packages (from requests<3,>=2->langchain) (3.4.1)\n",
      "Requirement already satisfied: idna<4,>=2.5 in c:\\dev\\lesterthomas\\langchain-examples\\tutorial-simple-llm-application\\venv\\lib\\site-packages (from requests<3,>=2->langchain) (3.10)\n",
      "Requirement already satisfied: urllib3<3,>=1.21.1 in c:\\dev\\lesterthomas\\langchain-examples\\tutorial-simple-llm-application\\venv\\lib\\site-packages (from requests<3,>=2->langchain) (2.3.0)\n",
      "Requirement already satisfied: certifi>=2017.4.17 in c:\\dev\\lesterthomas\\langchain-examples\\tutorial-simple-llm-application\\venv\\lib\\site-packages (from requests<3,>=2->langchain) (2025.1.31)\n",
      "Requirement already satisfied: greenlet>=1 in c:\\dev\\lesterthomas\\langchain-examples\\tutorial-simple-llm-application\\venv\\lib\\site-packages (from SQLAlchemy<3,>=1.4->langchain) (3.1.1)\n",
      "Requirement already satisfied: regex>=2022.1.18 in c:\\dev\\lesterthomas\\langchain-examples\\tutorial-simple-llm-application\\venv\\lib\\site-packages (from tiktoken<1,>=0.7->langchain-openai) (2024.11.6)\n",
      "Requirement already satisfied: httpcore==1.* in c:\\dev\\lesterthomas\\langchain-examples\\tutorial-simple-llm-application\\venv\\lib\\site-packages (from httpx<1,>=0.23.0->langsmith<0.4,>=0.1.17->langchain) (1.0.7)\n",
      "Requirement already satisfied: h11<0.15,>=0.13 in c:\\dev\\lesterthomas\\langchain-examples\\tutorial-simple-llm-application\\venv\\lib\\site-packages (from httpcore==1.*->httpx<1,>=0.23.0->langsmith<0.4,>=0.1.17->langchain) (0.14.0)\n",
      "Requirement already satisfied: jsonpointer>=1.9 in c:\\dev\\lesterthomas\\langchain-examples\\tutorial-simple-llm-application\\venv\\lib\\site-packages (from jsonpatch<2.0,>=1.33->langchain-core<1.0.0,>=0.3.45->langchain) (3.0.0)\n",
      "Requirement already satisfied: colorama in c:\\dev\\lesterthomas\\langchain-examples\\tutorial-simple-llm-application\\venv\\lib\\site-packages (from tqdm>4->openai<2.0.0,>=1.68.2->langchain-openai) (0.4.6)\n",
      "Note: you may need to restart the kernel to use updated packages.\n"
     ]
    },
    {
     "name": "stderr",
     "output_type": "stream",
     "text": [
      "\n",
      "[notice] A new release of pip is available: 24.3.1 -> 25.0.1\n",
      "[notice] To update, run: python.exe -m pip install --upgrade pip\n"
     ]
    }
   ],
   "source": [
    "%pip install langchain langchain-openai python-dotenv"
   ]
  },
  {
   "cell_type": "code",
   "execution_count": null,
   "metadata": {},
   "outputs": [],
   "source": [
    "from dotenv import load_dotenv\n",
    "\n",
    "# Load environment variables from a .env file\n",
    "load_dotenv()"
   ]
  },
  {
   "cell_type": "code",
   "execution_count": 7,
   "metadata": {},
   "outputs": [],
   "source": [
    "from langchain_openai import ChatOpenAI\n",
    "model = ChatOpenAI(model=\"gpt-4o-mini\")"
   ]
  },
  {
   "cell_type": "markdown",
   "metadata": {},
   "source": [
    "## Basic Chat Model with synchronous and asychronous calls"
   ]
  },
  {
   "cell_type": "code",
   "execution_count": 8,
   "metadata": {},
   "outputs": [
    {
     "name": "stdout",
     "output_type": "stream",
     "text": [
      "\u001b[31m\u001b[32mC\u001b[34miao\u001b[31m!\u001b[32m Mi\u001b[34m ch\u001b[31miamo\u001b[32m Lester\u001b[34m.\u001b[31m Sono\u001b[32m un\u001b[34m ing\u001b[31megn\u001b[32mere\u001b[34m software\u001b[31m.\u001b[32m Mi\u001b[34m piace\u001b[31m gioc\u001b[32mare\u001b[34m ai\u001b[31m videog\u001b[32mio\u001b[34mchi\u001b[31m e\u001b[32m guard\u001b[34mare\u001b[31m film\u001b[32m.\u001b[34m"
     ]
    }
   ],
   "source": [
    "from langchain_core.messages import HumanMessage, SystemMessage\n",
    "\n",
    "messages = [\n",
    "    SystemMessage(\"Translate the following from English into Italian\"),\n",
    "    HumanMessage(\"hi! My name is Lester. I am a software engineer. I love to play video games and watch movies.\"),\n",
    "]\n",
    "# synchronous call\n",
    "# model.invoke(messages)\n",
    "\n",
    "# asynchronous call\n",
    "colors = [\"\\033[31m\", \"\\033[32m\", \"\\033[34m\"]  # ANSI escape codes for red, green, and blue\n",
    "color_index = 0  # to keep track of the current color\n",
    "\n",
    "for token in model.stream(messages):\n",
    "    # choose the next color in the sequence\n",
    "    color = colors[color_index]\n",
    "    color_index = (color_index + 1) % len(colors)  # rotate through the colors\n",
    "    # print the token with the chosen color\n",
    "    print(color + token.content, end=\"\", flush=True)"
   ]
  },
  {
   "cell_type": "markdown",
   "metadata": {},
   "source": [
    "## Prompt templates"
   ]
  },
  {
   "cell_type": "code",
   "execution_count": 9,
   "metadata": {},
   "outputs": [
    {
     "name": "stdout",
     "output_type": "stream",
     "text": [
      "Ciao!\n",
      "Je m'appelle Lester.\n"
     ]
    }
   ],
   "source": [
    "from langchain_core.prompts import ChatPromptTemplate\n",
    "\n",
    "system_template = \"Translate the following from English into {language}\"\n",
    "\n",
    "prompt_template = ChatPromptTemplate.from_messages(\n",
    "    [(\"system\", system_template), (\"user\", \"{text}\")]\n",
    ")\n",
    "\n",
    "prompt = prompt_template.invoke({\"language\": \"Italisn\", \"text\": \"Hi!\"})\n",
    "prompt\n",
    "\n",
    "response = model.invoke(prompt)\n",
    "print(response.content)\n",
    "\n",
    "prompt = prompt_template.invoke({\"language\": \"French\", \"text\": \"My name is Lester\"})\n",
    "prompt\n",
    "\n",
    "response = model.invoke(prompt)\n",
    "print(response.content)"
   ]
  },
  {
   "cell_type": "code",
   "execution_count": null,
   "metadata": {},
   "outputs": [],
   "source": []
  },
  {
   "cell_type": "code",
   "execution_count": null,
   "metadata": {},
   "outputs": [],
   "source": []
  }
 ],
 "metadata": {
  "kernelspec": {
   "display_name": "venv",
   "language": "python",
   "name": "python3"
  },
  "language_info": {
   "codemirror_mode": {
    "name": "ipython",
    "version": 3
   },
   "file_extension": ".py",
   "mimetype": "text/x-python",
   "name": "python",
   "nbconvert_exporter": "python",
   "pygments_lexer": "ipython3",
   "version": "3.13.2"
  }
 },
 "nbformat": 4,
 "nbformat_minor": 2
}
